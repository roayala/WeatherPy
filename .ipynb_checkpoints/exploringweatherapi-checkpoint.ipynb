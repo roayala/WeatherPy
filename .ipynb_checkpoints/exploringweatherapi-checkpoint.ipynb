{
 "cells": [
  {
   "cell_type": "markdown",
   "metadata": {},
   "source": [
    "# Exploring weather API"
   ]
  },
  {
   "cell_type": "code",
   "execution_count": 7,
   "metadata": {},
   "outputs": [],
   "source": [
    "# First task, conect to weather app and extract the json file to analyze what info its given\n",
    "# Imports\n",
    "import json\n",
    "import requests\n",
    "import pandas as pd\n",
    "from config import api_key_weather\n",
    "\n"
   ]
  },
  {
   "cell_type": "code",
   "execution_count": 34,
   "metadata": {},
   "outputs": [],
   "source": [
    "# api.openweathermap.org/data/2.5/find?q=London&units=metric\n",
    "# http://api.openweathermap.org/data/2.5/weather?\"\n",
    "url_weather = \"http://api.openweathermap.org/data/2.5/find?\"\n",
    "city = 'Mexico'\n",
    "\n",
    "query_url = url_weather + 'appid=' + api_key_weather + '&q=' + city + '&units=imperial'\n"
   ]
  },
  {
   "cell_type": "code",
   "execution_count": 35,
   "metadata": {},
   "outputs": [
    {
     "name": "stdout",
     "output_type": "stream",
     "text": [
      "The Weather API responded with: {'message': 'accurate', 'cod': '200', 'count': 5, 'list': [{'id': 4398103, 'name': 'Mexico', 'coord': {'lat': 39.1698, 'lon': -91.883}, 'main': {'temp': 90.46, 'pressure': 1014, 'humidity': 59, 'temp_min': 88, 'temp_max': 93}, 'dt': 1562706576, 'wind': {'speed': 10.29, 'deg': 190}, 'sys': {'country': 'US'}, 'rain': None, 'snow': None, 'clouds': {'all': 40}, 'weather': [{'id': 802, 'main': 'Clouds', 'description': 'scattered clouds', 'icon': '03d'}]}, {'id': 1699805, 'name': 'Mexico', 'coord': {'lat': 15.0648, 'lon': 120.7201}, 'main': {'temp': 81.27, 'pressure': 1010, 'humidity': 88, 'temp_min': 77, 'temp_max': 84.99}, 'dt': 1562706552, 'wind': {'speed': 2.24, 'deg': 270}, 'sys': {'country': 'PH'}, 'rain': None, 'snow': None, 'clouds': {'all': 75}, 'weather': [{'id': 803, 'main': 'Clouds', 'description': 'broken clouds', 'icon': '04n'}]}, {'id': 4971871, 'name': 'Mexico', 'coord': {'lat': 44.5611, 'lon': -70.546}, 'main': {'temp': 82.15, 'pressure': 1016, 'humidity': 30, 'temp_min': 79, 'temp_max': 84.2}, 'dt': 1562706689, 'wind': {'speed': 6.93}, 'sys': {'country': 'US'}, 'rain': None, 'snow': None, 'clouds': {'all': 1}, 'weather': [{'id': 721, 'main': 'Haze', 'description': 'haze', 'icon': '50d'}]}, {'id': 344979, 'name': 'Mexico', 'coord': {'lat': 9.0104, 'lon': 38.7445}, 'main': {'temp': 60.8, 'pressure': 1027, 'humidity': 82, 'temp_min': 60.8, 'temp_max': 60.8}, 'dt': 1562706549, 'wind': {'speed': 9.17, 'deg': 310}, 'sys': {'country': 'ET'}, 'rain': None, 'snow': None, 'clouds': {'all': 40}, 'weather': [{'id': 802, 'main': 'Clouds', 'description': 'scattered clouds', 'icon': '03n'}]}, {'id': 3991622, 'name': 'Mexico', 'coord': {'lat': 28.6208, 'lon': -111.6252}, 'main': {'temp': 102.81, 'pressure': 1013, 'humidity': 11, 'temp_min': 99, 'temp_max': 106}, 'dt': 1562706680, 'wind': {'speed': 5.82, 'deg': 250}, 'sys': {'country': 'MX'}, 'rain': None, 'snow': None, 'clouds': {'all': 20}, 'weather': [{'id': 801, 'main': 'Clouds', 'description': 'few clouds', 'icon': '02d'}]}]}.\n"
     ]
    }
   ],
   "source": [
    "weather_response = requests.get(query_url)\n",
    "weather_json = weather_response.json()\n",
    "\n",
    "print(f'The Weather API responded with: {weather_json}.')"
   ]
  },
  {
   "cell_type": "code",
   "execution_count": 39,
   "metadata": {},
   "outputs": [
    {
     "data": {
      "text/html": [
       "<div>\n",
       "<style scoped>\n",
       "    .dataframe tbody tr th:only-of-type {\n",
       "        vertical-align: middle;\n",
       "    }\n",
       "\n",
       "    .dataframe tbody tr th {\n",
       "        vertical-align: top;\n",
       "    }\n",
       "\n",
       "    .dataframe thead th {\n",
       "        text-align: right;\n",
       "    }\n",
       "</style>\n",
       "<table border=\"1\" class=\"dataframe\">\n",
       "  <thead>\n",
       "    <tr style=\"text-align: right;\">\n",
       "      <th></th>\n",
       "      <th>City id</th>\n",
       "      <th>City name</th>\n",
       "      <th>Latitude</th>\n",
       "      <th>Temperature in F</th>\n",
       "      <th>Humidity</th>\n",
       "      <th>Cloudiness</th>\n",
       "      <th>Wind Speed (mph)</th>\n",
       "    </tr>\n",
       "  </thead>\n",
       "  <tbody>\n",
       "    <tr>\n",
       "      <th>0</th>\n",
       "      <td>4398103</td>\n",
       "      <td>Mexico</td>\n",
       "      <td>39.1698</td>\n",
       "      <td>90.46</td>\n",
       "      <td>59</td>\n",
       "      <td>40</td>\n",
       "      <td>10.29</td>\n",
       "    </tr>\n",
       "  </tbody>\n",
       "</table>\n",
       "</div>"
      ],
      "text/plain": [
       "   City id City name  Latitude  Temperature in F  Humidity  Cloudiness  \\\n",
       "0  4398103    Mexico   39.1698             90.46        59          40   \n",
       "\n",
       "   Wind Speed (mph)   \n",
       "0              10.29  "
      ]
     },
     "execution_count": 39,
     "metadata": {},
     "output_type": "execute_result"
    }
   ],
   "source": [
    "\"\"\"\n",
    "Temperature (F) vs. Latitude\n",
    "Humidity (%) vs. Latitude\n",
    "Cloudiness (%) vs. Latitude\n",
    "Wind Speed (mph) vs. Latitude\n",
    "\"\"\"\n",
    "weatherdf=pd.DataFrame()\n",
    "\n",
    "weatherdf['City id']=[weather_json['list'][0]['id']]\n",
    "weatherdf['City name']=[weather_json['list'][0]['name']]\n",
    "weatherdf['Latitude']=[weather_json['list'][0]['coord']['lat']]\n",
    "weatherdf['Temperature in F']=[weather_json['list'][0]['main']['temp']]\n",
    "weatherdf['Humidity']=[weather_json['list'][0]['main']['humidity']]\n",
    "weatherdf['Cloudiness']=[weather_json['list'][0]['clouds'][\"all\"]]\n",
    "weatherdf['Wind Speed (mph) '] = [weather_json['list'][0]['wind'][\"speed\"]] \n",
    "\n",
    "weatherdf"
   ]
  },
  {
   "cell_type": "code",
   "execution_count": 29,
   "metadata": {},
   "outputs": [
    {
     "data": {
      "text/plain": [
       "{'id': 4398103,\n",
       " 'name': 'Mexico',\n",
       " 'coord': {'lat': 39.1698, 'lon': -91.883},\n",
       " 'main': {'temp': 32.48,\n",
       "  'pressure': 1014,\n",
       "  'humidity': 59,\n",
       "  'temp_min': 31.11,\n",
       "  'temp_max': 33.89},\n",
       " 'dt': 1562706576,\n",
       " 'wind': {'speed': 4.6, 'deg': 190},\n",
       " 'sys': {'country': 'US'},\n",
       " 'rain': None,\n",
       " 'snow': None,\n",
       " 'clouds': {'all': 40},\n",
       " 'weather': [{'id': 802,\n",
       "   'main': 'Clouds',\n",
       "   'description': 'scattered clouds',\n",
       "   'icon': '03d'}]}"
      ]
     },
     "execution_count": 29,
     "metadata": {},
     "output_type": "execute_result"
    }
   ],
   "source": [
    "weather_json['list'][0]"
   ]
  },
  {
   "cell_type": "code",
   "execution_count": null,
   "metadata": {},
   "outputs": [],
   "source": []
  }
 ],
 "metadata": {
  "kernelspec": {
   "display_name": "Python 3",
   "language": "python",
   "name": "python3"
  },
  "language_info": {
   "codemirror_mode": {
    "name": "ipython",
    "version": 3
   },
   "file_extension": ".py",
   "mimetype": "text/x-python",
   "name": "python",
   "nbconvert_exporter": "python",
   "pygments_lexer": "ipython3",
   "version": "3.7.1"
  }
 },
 "nbformat": 4,
 "nbformat_minor": 2
}
